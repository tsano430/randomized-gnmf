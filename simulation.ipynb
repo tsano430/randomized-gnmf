{
 "cells": [
  {
   "cell_type": "markdown",
   "metadata": {},
   "source": [
    "Randomized Graph regularized Nonnegative Matrix Factorization\n",
    "-------------------------------------------------------------\n",
    "\n",
    "Optimization Problem: \n",
    "\n",
    "$$\n",
    "\\begin{array}{ll}\n",
    "\\mathrm{minimize} & f(\\tilde{U}, V) = \\frac{1}{2} \\| B - \\tilde{U} V^T \\|_F^2 + \\lambda \\mathrm{Tr}(V^T L V) \\\\\n",
    "\\mathrm{subject\\ to} & Q\\tilde{U} \\geq 0_{M \\times K},\\  V \\geq 0_{N \\times K}\n",
    "\\end{array}\n",
    "$$"
   ]
  },
  {
   "cell_type": "code",
   "execution_count": 1,
   "metadata": {
    "scrolled": true
   },
   "outputs": [],
   "source": [
    "import pickle\n",
    "import numpy as np\n",
    "import matplotlib.pyplot as plt\n",
    "from sklearn.cluster import KMeans\n",
    "from sklearn.preprocessing import Normalizer\n",
    "from randomized_gnmf.rgnmf import GNMF, RGNMF\n",
    "from randomized_gnmf.metrics import calc_ac_score, calc_nmi_score\n",
    "%matplotlib inline"
   ]
  },
  {
   "cell_type": "markdown",
   "metadata": {},
   "source": [
    "Input COIL20 dataset\n",
    "--------------------\n",
    "\n",
    "URL: https://www.cs.columbia.edu/CAVE/software/softlib/coil-20.php"
   ]
  },
  {
   "cell_type": "code",
   "execution_count": 2,
   "metadata": {},
   "outputs": [],
   "source": [
    "with open('./input/COIL20.pkl', 'rb') as f:\n",
    "    COIL20 = pickle.load(f)"
   ]
  },
  {
   "cell_type": "code",
   "execution_count": 3,
   "metadata": {},
   "outputs": [],
   "source": [
    "scaler = Normalizer()\n",
    "\n",
    "X = COIL20['X']\n",
    "X = scaler.fit_transform(X.T).T\n",
    "y = COIL20['y']\n",
    "k = len(np.unique(y))"
   ]
  },
  {
   "cell_type": "code",
   "execution_count": 4,
   "metadata": {},
   "outputs": [],
   "source": [
    "kmeans = KMeans(n_clusters=k, random_state=0)\n",
    "gnmf = GNMF(n_components=k, random_state=0, calc_objs=True, max_iter=200)\n",
    "rgnmf = RGNMF(n_components=k, random_state=0, calc_objs=True, max_iter=200)"
   ]
  },
  {
   "cell_type": "code",
   "execution_count": 5,
   "metadata": {},
   "outputs": [
    {
     "name": "stdout",
     "output_type": "stream",
     "text": [
      "CPU times: user 46.4 s, sys: 3.76 s, total: 50.2 s\n",
      "Wall time: 14.2 s\n"
     ]
    }
   ],
   "source": [
    "%%time\n",
    "gnmf_labels = kmeans.fit(gnmf.fit(X).get_coef()).labels_"
   ]
  },
  {
   "cell_type": "code",
   "execution_count": 6,
   "metadata": {},
   "outputs": [
    {
     "name": "stdout",
     "output_type": "stream",
     "text": [
      "CPU times: user 17.3 s, sys: 1.76 s, total: 19 s\n",
      "Wall time: 4.91 s\n"
     ]
    }
   ],
   "source": [
    "%%time\n",
    "rgnmf_labels = kmeans.fit(rgnmf.fit(X).get_coef()).labels_"
   ]
  },
  {
   "cell_type": "markdown",
   "metadata": {},
   "source": [
    "Results\n",
    "-------"
   ]
  },
  {
   "cell_type": "code",
   "execution_count": 7,
   "metadata": {
    "scrolled": true
   },
   "outputs": [
    {
     "name": "stdout",
     "output_type": "stream",
     "text": [
      "[GNMF]   AC: 82.5%\n",
      "[RGNMF]  AC: 82.4%\n"
     ]
    }
   ],
   "source": [
    "print('[GNMF]   AC: {0:.1f}%'.format(calc_ac_score(y, gnmf_labels) * 100))\n",
    "print('[RGNMF]  AC: {0:.1f}%'.format(calc_ac_score(y, rgnmf_labels) * 100))"
   ]
  },
  {
   "cell_type": "code",
   "execution_count": 8,
   "metadata": {},
   "outputs": [
    {
     "name": "stdout",
     "output_type": "stream",
     "text": [
      "[GNMF]   NMI: 89.6%\n",
      "[RGNMF]  NMI: 89.1%\n"
     ]
    }
   ],
   "source": [
    "print('[GNMF]   NMI: {0:.1f}%'.format(calc_nmi_score(y, gnmf_labels) * 100))\n",
    "print('[RGNMF]  NMI: {0:.1f}%'.format(calc_nmi_score(y, rgnmf_labels) * 100))"
   ]
  },
  {
   "cell_type": "markdown",
   "metadata": {},
   "source": [
    "Objective function value\n",
    "-------------------------"
   ]
  },
  {
   "cell_type": "code",
   "execution_count": 9,
   "metadata": {},
   "outputs": [],
   "source": [
    "gnmf_objs = gnmf.get_objs()\n",
    "rgnmf_objs = rgnmf.get_objs()"
   ]
  },
  {
   "cell_type": "code",
   "execution_count": 10,
   "metadata": {},
   "outputs": [
    {
     "data": {
      "image/png": "[encoded data removed]",
      "text/plain": [
       "<Figure size 432x288 with 1 Axes>"
      ]
     },
     "metadata": {
      "needs_background": "light"
     },
     "output_type": "display_data"
    }
   ],
   "source": [
    "plt.plot(gnmf_objs, label='GNMF')\n",
    "plt.plot(rgnmf_objs, label='Randomized GNMF')\n",
    "plt.xlabel('Iteration')\n",
    "plt.ylabel('Objective function value')\n",
    "plt.legend()\n",
    "plt.show()"
   ]
  }
 ],
 "metadata": {
  "kernelspec": {
   "display_name": "Python 3",
   "language": "python",
   "name": "python3"
  },
  "language_info": {
   "codemirror_mode": {
    "name": "ipython",
    "version": 3
   },
   "file_extension": ".py",
   "mimetype": "text/x-python",
   "name": "python",
   "nbconvert_exporter": "python",
   "pygments_lexer": "ipython3",
   "version": "3.8.6"
  }
 },
 "nbformat": 4,
 "nbformat_minor": 4
}
